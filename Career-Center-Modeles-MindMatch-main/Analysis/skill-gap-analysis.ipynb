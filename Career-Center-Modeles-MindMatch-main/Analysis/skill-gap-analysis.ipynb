{
 "cells": [
  {
   "cell_type": "code",
   "execution_count": 22,
   "id": "e145eb20",
   "metadata": {},
   "outputs": [],
   "source": [
    "import pandas as pd\n",
    "from sklearn.feature_extraction.text import CountVectorizer\n",
    "from sklearn.decomposition import LatentDirichletAllocation"
   ]
  },
  {
   "cell_type": "code",
   "execution_count": 23,
   "id": "e587d50e",
   "metadata": {},
   "outputs": [],
   "source": [
    "# Load the job offers dataset\n",
    "df = pd.read_csv('FinalDataSetJobOffers.csv')"
   ]
  },
  {
   "cell_type": "code",
   "execution_count": 24,
   "id": "d26c14c3",
   "metadata": {
    "scrolled": true
   },
   "outputs": [],
   "source": [
    "# Replace missing values with an empty string\n",
    "df['Job description'].fillna('', inplace=True)"
   ]
  },
  {
   "cell_type": "code",
   "execution_count": 25,
   "id": "06f0aebd",
   "metadata": {},
   "outputs": [],
   "source": [
    "\n",
    "# Extract the skills from job descriptions\n",
    "vectorizer = CountVectorizer(stop_words='english')\n",
    "skills_matrix = vectorizer.fit_transform(df['Job description'])"
   ]
  },
  {
   "cell_type": "code",
   "execution_count": 26,
   "id": "3c48065b",
   "metadata": {},
   "outputs": [
    {
     "data": {
      "text/plain": [
       "LatentDirichletAllocation(random_state=42)"
      ]
     },
     "execution_count": 26,
     "metadata": {},
     "output_type": "execute_result"
    }
   ],
   "source": [
    "\n",
    "# Apply Latent Dirichlet Allocation to identify topics\n",
    "lda = LatentDirichletAllocation(n_components=10, random_state=42)\n",
    "lda.fit(skills_matrix)\n"
   ]
  },
  {
   "cell_type": "code",
   "execution_count": 27,
   "id": "14a83719",
   "metadata": {},
   "outputs": [
    {
     "name": "stdout",
     "output_type": "stream",
     "text": [
      "Topic 0\n",
      "['develop', 'softwar', 'respons', 'design', 'role', 'team', 'look', 'engin', 'project', 'applic']\n",
      "Topic 1\n"
     ]
    },
    {
     "name": "stderr",
     "output_type": "stream",
     "text": [
      "C:\\Users\\LENOVO\\anaconda3\\lib\\site-packages\\sklearn\\utils\\deprecation.py:87: FutureWarning: Function get_feature_names is deprecated; get_feature_names is deprecated in 1.0 and will be removed in 1.2. Please use get_feature_names_out instead.\n",
      "  warnings.warn(msg, category=FutureWarning)\n"
     ]
    },
    {
     "name": "stdout",
     "output_type": "stream",
     "text": [
      "['data', 'work', 'experi', 'employ', 'busi', 'team', 'statu', 'opportun', 'applic', 'analyt']\n",
      "Topic 2\n",
      "['manag', 'support', 'provid', 'requir', 'work', 'respons', 'skill', 'report', 'includ', 'process']\n",
      "Topic 3\n",
      "['data', 'experi', 'busi', 'analyt', 'model', 'work', 'analysi', 'statist', 'use', 'develop']\n",
      "Topic 4\n",
      "['team', 'work', 'experi', 'product', 'build', 'compani', 'help', 'engin', 'develop', 'opportun']\n",
      "Topic 5\n",
      "['experi', 'work', 'shift', 'administr', 'candid', 'look', 'team', 'busi', 'manag', 'network']\n",
      "Topic 6\n",
      "['experi', 'year', 'degre', 'bachelor', 'comput', 'scienc', 'engin', 'qualif', 'minimum', 'educ']\n",
      "Topic 7\n",
      "['experi', 'good', 'skill', 'knowledg', 'requir', 'year', 'work', 'develop', 'strong', 'commun']\n",
      "Topic 8\n",
      "['learn', 'machin', 'experi', 'engin', 'work', 'ml', 'develop', 'team', 'softwar', 'comput']\n",
      "Topic 9\n",
      "['experi', 'engin', 'servic', 'team', 'develop', 'product', 'work', 'cloud', 'softwar', 'build']\n"
     ]
    }
   ],
   "source": [
    "# Print the top 10 keywords for each topic\n",
    "for idx, topic in enumerate(lda.components_):\n",
    "    print(f\"Topic {idx}\")\n",
    "    print([vectorizer.get_feature_names()[i] for i in topic.argsort()[:-11:-1]])"
   ]
  },
  {
   "cell_type": "code",
   "execution_count": null,
   "id": "b1984174",
   "metadata": {},
   "outputs": [],
   "source": []
  }
 ],
 "metadata": {
  "kernelspec": {
   "display_name": "Python 3 (ipykernel)",
   "language": "python",
   "name": "python3"
  },
  "language_info": {
   "codemirror_mode": {
    "name": "ipython",
    "version": 3
   },
   "file_extension": ".py",
   "mimetype": "text/x-python",
   "name": "python",
   "nbconvert_exporter": "python",
   "pygments_lexer": "ipython3",
   "version": "3.9.12"
  }
 },
 "nbformat": 4,
 "nbformat_minor": 5
}
